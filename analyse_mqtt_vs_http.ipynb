{
  "nbformat": 4,
  "nbformat_minor": 0,
  "metadata": {
    "colab": {
      "name": "analyse-mqtt-vs-http.ipynb",
      "provenance": [],
      "collapsed_sections": [
        "urLKGW-wx7JR"
      ],
      "authorship_tag": "ABX9TyO/kDiTL3ffeQYfDyy8jLiq",
      "include_colab_link": true
    },
    "kernelspec": {
      "name": "python3",
      "display_name": "Python 3"
    }
  },
  "cells": [
    {
      "cell_type": "markdown",
      "metadata": {
        "id": "view-in-github",
        "colab_type": "text"
      },
      "source": [
        "<a href=\"https://colab.research.google.com/github/ThazSobral/mqtt-vs-http-experiment/blob/main/analyse_mqtt_vs_http.ipynb\" target=\"_parent\"><img src=\"https://colab.research.google.com/assets/colab-badge.svg\" alt=\"Open In Colab\"/></a>"
      ]
    },
    {
      "cell_type": "markdown",
      "metadata": {
        "id": "urLKGW-wx7JR"
      },
      "source": [
        "# Ajustes do notebook"
      ]
    },
    {
      "cell_type": "markdown",
      "metadata": {
        "id": "_jDhydzqmagd"
      },
      "source": [
        "**Montando** o drive para acesso dos arquivos"
      ]
    },
    {
      "cell_type": "code",
      "metadata": {
        "id": "u7KMKYzB7ZGJ",
        "outputId": "b7567358-c748-4d82-f1bf-97cc7bb8bda5",
        "colab": {
          "base_uri": "https://localhost:8080/",
          "height": 34
        }
      },
      "source": [
        "from google.colab import drive\n",
        "drive.mount('/content/drive')"
      ],
      "execution_count": 25,
      "outputs": [
        {
          "output_type": "stream",
          "text": [
            "Drive already mounted at /content/drive; to attempt to forcibly remount, call drive.mount(\"/content/drive\", force_remount=True).\n"
          ],
          "name": "stdout"
        }
      ]
    },
    {
      "cell_type": "markdown",
      "metadata": {
        "id": "HYyANgQXmkmC"
      },
      "source": [
        "Importando as **bibliotecas**"
      ]
    },
    {
      "cell_type": "code",
      "metadata": {
        "id": "4CfPBXL6TYwp"
      },
      "source": [
        "import pandas as pd\n",
        "from statsmodels.tsa.seasonal import seasonal_decompose\n",
        "import matplotlib.pyplot as plt\n",
        "import seaborn as sns\n",
        "import numpy as np"
      ],
      "execution_count": 26,
      "outputs": []
    },
    {
      "cell_type": "markdown",
      "metadata": {
        "id": "T2x85GOvmrr8"
      },
      "source": [
        "Importando **dados**"
      ]
    },
    {
      "cell_type": "code",
      "metadata": {
        "id": "sOhfHkkG8QfE"
      },
      "source": [
        "packets_http_csv = pd.read_csv('/content/drive/My Drive/FACUL CC/FACUL CC 8º SEM/API 8º sem/analyse/data-http/packet-http-one-minute.csv')\n",
        "packets_http_json = pd.read_json('/content/drive/My Drive/FACUL CC/FACUL CC 8º SEM/API 8º sem/analyse/data-http/packet-http-one-minute.json')\n",
        "\n",
        "#filtrar os que utilizam somente o protocolo HTTP\n",
        "packets_http_csv = packets_http_csv[packets_http_csv['Protocol'] == 'HTTP']\n",
        "\n",
        "# packets_http_csv\n",
        "# packets_http_json"
      ],
      "execution_count": 27,
      "outputs": []
    },
    {
      "cell_type": "code",
      "metadata": {
        "id": "DCCvy_hS9Ok0"
      },
      "source": [
        "packets_mqtt_csv = pd.read_csv('/content/drive/My Drive/FACUL CC/FACUL CC 8º SEM/API 8º sem/analyse/data-mqtt/packet-mqtt-one-minute.csv')\n",
        "packets_mqtt_json = pd.read_json('/content/drive/My Drive/FACUL CC/FACUL CC 8º SEM/API 8º sem/analyse/data-mqtt/packet-mqtt-one-minute.json')\n",
        "\n",
        "# packets_mqtt_csv\n",
        "# packets_mqtt_json"
      ],
      "execution_count": 28,
      "outputs": []
    },
    {
      "cell_type": "markdown",
      "metadata": {
        "id": "jMhHRw42yC7z"
      },
      "source": [
        "# Perguntas"
      ]
    },
    {
      "cell_type": "markdown",
      "metadata": {
        "id": "9LjErwLvj11T"
      },
      "source": [
        "## **Quantos** dados **trafegaram** na rede, tanto **http** quanto **mqtt**?"
      ]
    },
    {
      "cell_type": "code",
      "metadata": {
        "id": "b1RjDeKrmWP-",
        "outputId": "feaa1fb3-d92d-4734-cba9-4b12ba5796c5",
        "colab": {
          "base_uri": "https://localhost:8080/",
          "height": 277
        }
      },
      "source": [
        "#definir quantidade de dados para cada tipo de pacote\n",
        "number_of_http = len(packets_http_csv)\n",
        "number_of_mqtt = len(packets_mqtt_csv)\n",
        "\n",
        "#definir variaveis\n",
        "labels = 'HTTP', 'MQTT'\n",
        "sizes = [number_of_http, number_of_mqtt]\n",
        "explode = (0, 0.1)\n",
        "\n",
        "#criar\n",
        "fig, ax = plt.subplots()\n",
        "#configurar subplots\n",
        "ax.pie(sizes, explode=explode, labels=labels, autopct='%1.1f%%', shadow=True, startangle=90)\n",
        "ax.axis('equal')\n",
        "fig.suptitle('HTTP vs MQTT', size=20)\n",
        "\n",
        "#mostrar plot\n",
        "plt.show()"
      ],
      "execution_count": 30,
      "outputs": [
        {
          "output_type": "display_data",
          "data": {
            "image/png": "[encoded data removed]",
            "text/plain": [
              "<Figure size 432x288 with 1 Axes>"
            ]
          },
          "metadata": {
            "tags": []
          }
        }
      ]
    },
    {
      "cell_type": "markdown",
      "metadata": {
        "id": "iH-3OrJ0Zn_Y"
      },
      "source": [
        "## Quais o **diferentes tamanhos** de pacotes há entre **http** e **mqtt**? E **quantos** pacotes foram **enviados** de cada tipo?"
      ]
    },
    {
      "cell_type": "code",
      "metadata": {
        "id": "yoal8QPkswPO",
        "outputId": "cdc1e4b2-e2cc-42bc-ef0b-b13382406a15",
        "colab": {
          "base_uri": "https://localhost:8080/",
          "height": 379
        }
      },
      "source": [
        "#definir váriaveis\n",
        "figsize=(12, 5)\n",
        "\n",
        "#criar subplots\n",
        "fig, ax = plt.subplots(1, 2, figsize=figsize)\n",
        "#definir titulo superior\n",
        "fig.suptitle('HTTP vs MQTT', size=30)\n",
        "\n",
        "#definir labels para os subplots\n",
        "x_label_ = 'Frames size'\n",
        "y_label_ = 'Number of frames'\n",
        "\n",
        "#criar e definir plot na posição 0\n",
        "length_packets_http_csv = pd.value_counts(packets_http_csv['Length'])\n",
        "ax_ = ax[0]\n",
        "length_packets_http_csv.plot(kind=\"bar\", ax=ax_)\n",
        "ax_.set_xlabel(x_label_)\n",
        "ax_.set_ylabel(y_label_)\n",
        "ax_.set_title('Frames HTTP')\n",
        "\n",
        "#criar e definir plot na posição 1\n",
        "length_packets_mqtt_csv = pd.value_counts(packets_mqtt_csv['Length'])\n",
        "ax_ = ax[1]\n",
        "length_packets_mqtt_csv.plot(kind=\"bar\", ax=ax_)\n",
        "ax_.set_xlabel(x_label_)\n",
        "ax_.set_ylabel(y_label_)\n",
        "ax_.set_title('Frames MQTT')\n",
        "\n",
        "#mostrar plot\n",
        "plt.show()"
      ],
      "execution_count": 29,
      "outputs": [
        {
          "output_type": "display_data",
          "data": {
            "image/png": "[encoded data removed]",
            "text/plain": [
              "<Figure size 864x360 with 2 Axes>"
            ]
          },
          "metadata": {
            "tags": [],
            "needs_background": "light"
          }
        }
      ]
    },
    {
      "cell_type": "markdown",
      "metadata": {
        "id": "od8SL2ofkHHm"
      },
      "source": [
        "## Qual a **média** (em **bytes**) desses **dados**, tanto **http** quanto **mqtt**?"
      ]
    },
    {
      "cell_type": "code",
      "metadata": {
        "id": "ns5-OoJJSYvK",
        "outputId": "731eec8b-c3ef-4720-b281-a76483647d54",
        "colab": {
          "base_uri": "https://localhost:8080/",
          "height": 369
        }
      },
      "source": [
        "sum_packets_http = packets_http_csv['Length'].sum()\n",
        "sum_packets_mqtt = packets_mqtt_csv['Length'].sum()\n",
        "mean_packets_http = sum_packets_http/len(packets_http_csv)\n",
        "mean_packets_mqtt =  sum_packets_mqtt/len(packets_mqtt_csv)\n",
        "# print(f'Soma quadros HTTP: {sum_packets_http} bytes\\nSoma quadros MQTT: {sum_packets_mqtt} bytes')\n",
        "\n",
        "sum_datas = [sum_packets_http, sum_packets_mqtt]\n",
        "mean_datas = [mean_packets_http, mean_packets_mqtt]\n",
        "\n",
        "labels = ['HTTP', 'MQTT']\n",
        "x = np.arange(len(labels))\n",
        "width = 0.35\n",
        "figsize = (6.5,5)\n",
        "\n",
        "fig, ax = plt.subplots(figsize=figsize)\n",
        "rects_sum = ax.bar(x - width/2, sum_datas, width, label='Soma')\n",
        "rects_mean = ax.bar(x + width/2, mean_datas, width, label='Média')\n",
        "\n",
        "ax.set_ylabel('size (bytes)')\n",
        "ax.set_title('HTTP vs MQTT', size=20)\n",
        "ax.set_xticks(x)\n",
        "ax.set_xticklabels(labels)\n",
        "ax.legend()\n",
        "\n",
        "def autolabel(rects):\n",
        "    for rect in rects:\n",
        "        height = rect.get_height()\n",
        "        ax.annotate('%.2f bytes'%height,\n",
        "                    xy=(rect.get_x() + rect.get_width() / 2, height),\n",
        "                    xytext=(0, 3),\n",
        "                    textcoords=\"offset points\",\n",
        "                    ha='center', va='bottom')\n",
        "\n",
        "autolabel(rects_sum)\n",
        "autolabel(rects_mean)\n",
        "\n",
        "fig.tight_layout()\n",
        "\n",
        "plt.show()"
      ],
      "execution_count": 60,
      "outputs": [
        {
          "output_type": "display_data",
          "data": {
            "image/png": "[encoded data removed]",
            "text/plain": [
              "<Figure size 468x360 with 1 Axes>"
            ]
          },
          "metadata": {
            "tags": [],
            "needs_background": "light"
          }
        }
      ]
    },
    {
      "cell_type": "markdown",
      "metadata": {
        "id": "2MruVOvjlWwK"
      },
      "source": [
        "## **Quanto** é **enviado** e **recebido** pela rede, tanto **http** quanto **mqtt**? (tanto em quantidade quanto em bytes)"
      ]
    },
    {
      "cell_type": "code",
      "metadata": {
        "id": "LBVWwt9mTmYr"
      },
      "source": [
        "# packets_http_csv\n",
        "device_data_http = packets_http_csv[packets_http_csv['Source'] == '192.168.0.117']\n",
        "legth_device_data_http = device_data_http['Length'].sum()\n",
        "server_data_http = packets_http_csv[packets_http_csv['Source'] == '192.168.0.109']\n",
        "legth_server_data_http = server_data_http['Length'].sum()\n",
        "\n",
        "# packets_mqtt_csv\n",
        "device_data_mqtt = packets_mqtt_csv[packets_mqtt_csv['Source'] == '192.168.0.117']\n",
        "legth_device_data_mqtt = device_data_mqtt['Length'].sum()\n",
        "server_data_mqtt = packets_mqtt_csv[packets_mqtt_csv['Source'] == '192.168.0.109']\n",
        "legth_server_data_mqtt = server_data_mqtt['Length'].sum()\n",
        "\n",
        "# print(f'''\n",
        "# HTTP\\n{legth_device_data_http} bytes send to server\\n{legth_server_data_http} bytes send to device\\n\n",
        "# {len(device_data_http)} frames send to server\\n{len(server_data_http)} frames send to device\\n\n",
        "# MQTT\\n{legth_device_data_mqtt} bytes send to server\\n{legth_server_data_mqtt} bytes send to device\\n\n",
        "# {len(device_data_http)} frames send to server\\n{len(server_data_http)} frames send to device\\n\n",
        "# ''')"
      ],
      "execution_count": 86,
      "outputs": []
    },
    {
      "cell_type": "code",
      "metadata": {
        "id": "mflFxlX96pMr",
        "outputId": "8e53c65c-4a08-4877-edb0-b3e964aba010",
        "colab": {
          "base_uri": "https://localhost:8080/",
          "height": 281
        }
      },
      "source": [
        "labels = ['HTTP', 'MQTT']\n",
        "men_means = [len(device_data_http), len(device_data_mqtt)]\n",
        "women_means = [len(server_data_http), len(server_data_mqtt)]\n",
        "\n",
        "width = 0.35\n",
        "\n",
        "fig, ax = plt.subplots()\n",
        "\n",
        "ax.bar(labels, men_means, width, label='device', )\n",
        "ax.bar(labels, women_means, width, bottom=men_means, label='server')\n",
        "\n",
        "ax.set_ylabel('Quantidade')\n",
        "ax.set_title('Quantidade de pacotes enviados')\n",
        "ax.legend()\n",
        "\n",
        "plt.show()"
      ],
      "execution_count": 145,
      "outputs": [
        {
          "output_type": "display_data",
          "data": {
            "image/png": "[encoded data removed]",
            "text/plain": [
              "<Figure size 432x288 with 1 Axes>"
            ]
          },
          "metadata": {
            "tags": [],
            "needs_background": "light"
          }
        }
      ]
    },
    {
      "cell_type": "code",
      "metadata": {
        "id": "TnA-kIUO_iA_",
        "outputId": "d0b82d26-e573-4eed-812e-980816eb4655",
        "colab": {
          "base_uri": "https://localhost:8080/",
          "height": 281
        }
      },
      "source": [
        "labels = ['HTTP', 'MQTT']\n",
        "men_means = [length_device_data_http, length_device_data_mqtt]\n",
        "women_means = [length_server_data_http, length_server_data_mqtt]\n",
        "\n",
        "width = 0.35\n",
        "\n",
        "fig, ax = plt.subplots()\n",
        "\n",
        "ax.bar(labels, men_means, width, label='device', )\n",
        "ax.bar(labels, women_means, width, bottom=men_means, label='server')\n",
        "\n",
        "ax.set_ylabel('Quantidade (bytes)')\n",
        "ax.set_title('Quantidade de pacotes enviados em bytes')\n",
        "ax.legend()\n",
        "\n",
        "plt.show()"
      ],
      "execution_count": 146,
      "outputs": [
        {
          "output_type": "display_data",
          "data": {
            "image/png": "[encoded data removed]",
            "text/plain": [
              "<Figure size 432x288 with 1 Axes>"
            ]
          },
          "metadata": {
            "tags": [],
            "needs_background": "light"
          }
        }
      ]
    }
  ]
}